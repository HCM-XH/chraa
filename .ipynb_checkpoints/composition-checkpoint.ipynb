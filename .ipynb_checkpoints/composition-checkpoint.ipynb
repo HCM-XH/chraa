{
 "cells": [
  {
   "cell_type": "code",
   "execution_count": null,
   "id": "6d4d2c40",
   "metadata": {},
   "outputs": [],
   "source": [
    "# Assume these are the material properties you input\n",
    "input_UTS = 160\n",
    "input_YS = 140\n",
    "input_EL = 14\n",
    "input_temperature = 300\n",
    "\n",
    "# Preprocess the input data\n",
    "input_features = np.array([[input_UTS, input_YS, input_EL, input_temperature]])\n",
    "input_features_transformed = pt.transform(input_features)  # Assume pt is the previously used PowerTransformer\n",
    "\n",
    "# Select features using the feature selector\n",
    "input_features_poly = poly.transform(input_features_transformed)  # Assume poly is the previously used PolynomialFeatures\n",
    "input_features_selected = selector.transform(input_features_poly)  # Assume selector is the previously used feature selector\n",
    "\n",
    "# Make predictions using the models\n",
    "predicted_compound_1 = model_compound_1.predict(input_features_selected)\n",
    "predicted_compound_2 = model_compound_2.predict(input_features_selected)\n",
    "predicted_compound_3 = model_compound_3.predict(input_features_selected)\n",
    "predicted_compound_4 = model_compound_4.predict(input_features_selected)\n",
    "predicted_compound_5 = model_compound_5.predict(input_features_selected)\n",
    "predicted_compound_6 = model_compound_6.predict(input_features_selected)\n",
    "predicted_compound_7 = model_compound_7.predict(input_features_selected)\n",
    "predicted_compound_8 = model_compound_8.predict(input_features_selected)\n",
    "predicted_compound_9 = model_compound_9.predict(input_features_selected)\n",
    "\n",
    "# Output the predicted results\n",
    "print(f\"Predicted Si content: {predicted_compound_1[0]}\")\n",
    "print(f\"Predicted Cu content: {predicted_compound_2[0]}\")\n",
    "print(f\"Predicted Mn content: {predicted_compound_3[0]}\")\n",
    "print(f\"Predicted Ni content: {predicted_compound_4[0]}\")\n",
    "print(f\"Predicted Mg content: {predicted_compound_5[0]}\")\n",
    "print(f\"Predicted Ti content: {predicted_compound_6[0]}\")\n",
    "print(f\"Predicted Zr content: {predicted_compound_7[0]}\")\n",
    "print(f\"Predicted Gd content: {predicted_compound_8[0]}\")\n",
    "print(f\"Predicted Er content: {predicted_compound_9[0]}\")\n"
   ]
  }
 ],
 "metadata": {
  "kernelspec": {
   "display_name": "Python (py39)",
   "language": "python",
   "name": "py39"
  },
  "language_info": {
   "codemirror_mode": {
    "name": "ipython",
    "version": 3
   },
   "file_extension": ".py",
   "mimetype": "text/x-python",
   "name": "python",
   "nbconvert_exporter": "python",
   "pygments_lexer": "ipython3",
   "version": "3.10.13"
  },
  "toc": {
   "base_numbering": 1,
   "nav_menu": {},
   "number_sections": true,
   "sideBar": true,
   "skip_h1_title": false,
   "title_cell": "Table of Contents",
   "title_sidebar": "Contents",
   "toc_cell": false,
   "toc_position": {},
   "toc_section_display": true,
   "toc_window_display": false
  }
 },
 "nbformat": 4,
 "nbformat_minor": 5
}
