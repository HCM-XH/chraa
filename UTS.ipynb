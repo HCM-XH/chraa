{
 "cells": [
  {
   "cell_type": "code",
   "execution_count": null,
   "id": "8f71d053",
   "metadata": {},
   "outputs": [],
   "source": [
    "# Load the data and preprocess it\n",
    "data_path = 'sum_1.csv'\n",
    "data_predict = pd.read_csv(data_path)\n",
    "\n",
    "features_predict = data_predict.drop('UTS', axis=1)\n",
    "transformed_features_predict = pt.transform(features_predict)\n",
    "transformed_df_predict = pd.DataFrame(transformed_features_predict, columns=features_predict.columns)\n",
    "\n",
    "# Polynomial Feature Expansion and Feature Selectio\n",
    "X_predict_poly = poly.transform(transformed_df_predict)\n",
    "X_predict_selected = selector.transform(X_predict_poly)\n",
    "\n",
    "# Make predictions using the trained model\n",
    "ensemble_predictions_predict = []\n",
    "for model in models:\n",
    "    predictions = model.predict(X_predict_selected)\n",
    "    ensemble_predictions_predict.append(predictions)\n",
    "\n",
    "ensemble_predictions_array = np.column_stack(ensemble_predictions_predict)\n",
    "\n",
    "final_predictions_predict = final_model.predict(ensemble_predictions_array)\n",
    "\n",
    "data_predict['UTS_predicted'] = final_predictions_predict\n",
    "\n",
    "\n",
    "print(data_predict)\n",
    "\n",
    "data_predict.to_csv('sum_UTS_2.csv', index=False)\n",
    "\n",
    "print(\"The predicted data has been saved to the file of sum_UTS_2.csv)\n"
   ]
  }
 ],
 "metadata": {
  "kernelspec": {
   "display_name": "Python (py39)",
   "language": "python",
   "name": "py39"
  },
  "language_info": {
   "codemirror_mode": {
    "name": "ipython",
    "version": 3
   },
   "file_extension": ".py",
   "mimetype": "text/x-python",
   "name": "python",
   "nbconvert_exporter": "python",
   "pygments_lexer": "ipython3",
   "version": "3.10.13"
  },
  "toc": {
   "base_numbering": 1,
   "nav_menu": {},
   "number_sections": true,
   "sideBar": true,
   "skip_h1_title": false,
   "title_cell": "Table of Contents",
   "title_sidebar": "Contents",
   "toc_cell": false,
   "toc_position": {},
   "toc_section_display": true,
   "toc_window_display": false
  }
 },
 "nbformat": 4,
 "nbformat_minor": 5
}
